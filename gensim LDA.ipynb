{
 "cells": [
  {
   "cell_type": "code",
   "execution_count": 1,
   "metadata": {
    "collapsed": true
   },
   "outputs": [],
   "source": [
    "% matplotlib inline\n",
    "from __future__ import division\n",
    "import gensim.corpora as corpora\n",
    "from gensim.models.wrappers import LdaMallet\n",
    "from gensim.models import CoherenceModel\n",
    "from helpers import *\n",
    "import nltk\n",
    "import json"
   ]
  },
  {
   "cell_type": "code",
   "execution_count": 7,
   "metadata": {
    "collapsed": true
   },
   "outputs": [],
   "source": [
    "NUM_TOPICS = 50\n",
    "MALLET = \"/Users/ddemszky/mallet-2.0.8/bin/mallet\"\n",
    "RANDOM_SEED = 42\n",
    "output_dir = \"topics/gensim_\" + str(NUM_TOPICS)"
   ]
  },
  {
   "cell_type": "code",
   "execution_count": 4,
   "metadata": {},
   "outputs": [
    {
     "name": "stdout",
     "output_type": "stream",
     "text": [
      "Getting books...\n",
      "America_A_Narrative_History_WWNorton_10th\n",
      "America_Past_And_Present_Pearson_10th\n",
      "Americas_History_Bedford_8th\n",
      "Give_Me_Liberty_An_American_History_WWNorton_3rd\n",
      "The_American_Pageant_Cengage_14th\n",
      "The_Unfinished_Nation_A_Concise_History_of_the_American_People_McGraw-Hill_8th\n",
      "Visions_of_America_A_History_of_the_United_States_Pearson_2nd\n",
      "american_history_connecting_with_the_past\n",
      "by_the_people\n",
      "history_alive_united_states_thru_industrialism\n",
      "hmh_the_americans_us_history_since_1877\n",
      "mastering_the_teks\n",
      "pearson_us_history\n",
      "teks_us_history\n",
      "us_history_early_colonial_period_through_reconstruction\n"
     ]
    }
   ],
   "source": [
    "books = get_book_txts(\"data/coref_resolved_txts\", splitlines=False)"
   ]
  },
  {
   "cell_type": "code",
   "execution_count": 11,
   "metadata": {},
   "outputs": [
    {
     "name": "stdout",
     "output_type": "stream",
     "text": [
      "Cleaning and combining texts...\n",
      "America_A_Narrative_History_WWNorton_10th\n",
      "America_Past_And_Present_Pearson_10th\n",
      "Americas_History_Bedford_8th\n",
      "Give_Me_Liberty_An_American_History_WWNorton_3rd\n",
      "The_American_Pageant_Cengage_14th\n",
      "The_Unfinished_Nation_A_Concise_History_of_the_American_People_McGraw-Hill_8th\n",
      "Visions_of_America_A_History_of_the_United_States_Pearson_2nd\n",
      "american_history_connecting_with_the_past\n",
      "by_the_people\n",
      "history_alive_united_states_thru_industrialism\n",
      "hmh_the_americans_us_history_since_1877\n",
      "mastering_the_teks\n",
      "pearson_us_history\n",
      "teks_us_history\n",
      "us_history_early_colonial_period_through_reconstruction\n"
     ]
    }
   ],
   "source": [
    "print(\"Cleaning and combining texts...\")\n",
    "all_sentences = []\n",
    "start_end = []\n",
    "prev = 0\n",
    "for title, book in books.items():\n",
    "    print(title)\n",
    "    sents = nltk.sent_tokenize(book)\n",
    "    start = prev\n",
    "    for i, s in enumerate(sents):\n",
    "        all_sentences.append(clean_text(s, stem=True, remove_short=True))\n",
    "    end = start + len(sents) - 1\n",
    "    start_end.append((title, start, end))\n",
    "    prev = end + 1"
   ]
  },
  {
   "cell_type": "code",
   "execution_count": 9,
   "metadata": {},
   "outputs": [],
   "source": [
    "start_end_dict = {}\n",
    "for tup in start_end:\n",
    "    start_end_dict[tup[0]] = (tup[1], tup[2])\n",
    "with open(output_dir + '/book_start_end.json', 'w') as f:\n",
    "    f.write(json.dumps(start_end_dict))"
   ]
  },
  {
   "cell_type": "code",
   "execution_count": 10,
   "metadata": {},
   "outputs": [
    {
     "name": "stdout",
     "output_type": "stream",
     "text": [
      "333134 sentences total\n"
     ]
    }
   ],
   "source": [
    "print(\"%d sentences total\" % len(all_sentences))\n"
   ]
  },
  {
   "cell_type": "code",
   "execution_count": 12,
   "metadata": {},
   "outputs": [
    {
     "name": "stdout",
     "output_type": "stream",
     "text": [
      "Creating dictionary...\n"
     ]
    }
   ],
   "source": [
    "print(\"Creating dictionary...\")\n",
    "id2word = corpora.Dictionary(all_sentences)\n",
    "id2word.save(output_dir + '/dictionary.dict')"
   ]
  },
  {
   "cell_type": "code",
   "execution_count": 13,
   "metadata": {},
   "outputs": [
    {
     "name": "stdout",
     "output_type": "stream",
     "text": [
      "Getting term-document frequencies...\n"
     ]
    }
   ],
   "source": [
    "print(\"Getting term-document frequencies...\")\n",
    "corpus = [id2word.doc2bow(t) for t in all_sentences]"
   ]
  },
  {
   "cell_type": "code",
   "execution_count": 22,
   "metadata": {
    "collapsed": true
   },
   "outputs": [],
   "source": [
    "def get_topics(num, corpus, id2word, output_dir, all_sentences):\n",
    "    print(num)\n",
    "    ldamallet = LdaMallet(MALLET,\n",
    "                          corpus=corpus,\n",
    "                          num_topics=num,\n",
    "                          prefix=output_dir + \"/\",\n",
    "                          workers=1,   # workers has to be 1, otherwise you get a java out of bounds exception\n",
    "                          id2word=id2word,\n",
    "                          iterations=1000,\n",
    "                          random_seed=RANDOM_SEED,\n",
    "                         alpha=5,\n",
    "                         optimize_interval=20)\n",
    "    coherence_model_ldamallet = CoherenceModel(model=ldamallet,\n",
    "                                               texts=all_sentences,\n",
    "                                               dictionary=id2word,\n",
    "                                               coherence='c_v')\n",
    "    coherence_ldamallet = coherence_model_ldamallet.get_coherence()\n",
    "    print('\\nCoherence Score: ', coherence_ldamallet)\n",
    "    keywords = {i: \", \".join([word for word, prop in ldamallet.show_topic(i)]) for i in range(ldamallet.num_topics)}\n",
    "    with open(output_dir + \"/topic_names.json', 'w') as f:\n",
    "        f.write(json.dumps(keywords))\n",
    "    ldamallet.save(output_dir + \"/model.mallet\")\n",
    "    ldamallet.show_topics(num_topics=num, formatted=True)\n",
    "    return coherence_ldamallet"
   ]
  },
  {
   "cell_type": "code",
   "execution_count": 23,
   "metadata": {},
   "outputs": [
    {
     "name": "stdout",
     "output_type": "stream",
     "text": [
      "Running topic model with 50 topics...\n",
      "50\n",
      "\n",
      "Coherence Score:  0.6760558828930116\n"
     ]
    },
    {
     "data": {
      "text/plain": [
       "0.6760558828930116"
      ]
     },
     "execution_count": 23,
     "metadata": {},
     "output_type": "execute_result"
    }
   ],
   "source": [
    "print(\"Running topic model with %d topics...\" % NUM_TOPICS)\n",
    "get_topics(NUM_TOPICS, corpus, id2word, output_dir, all_sentences)"
   ]
  },
  {
   "cell_type": "code",
   "execution_count": 27,
   "metadata": {},
   "outputs": [],
   "source": [
    "ldamallet = LdaMallet.load(output_dir + \"/model.mallet\")"
   ]
  },
  {
   "cell_type": "code",
   "execution_count": 28,
   "metadata": {},
   "outputs": [
    {
     "data": {
      "text/plain": [
       "[(0,\n",
       "  '0.049*\"percent\" + 0.047*\"million\" + 0.039*\"year\" + 0.030*\"american\" + 0.027*\"popul\" + 0.022*\"number\" + 0.014*\"half\" + 0.014*\"rate\" + 0.013*\"increas\" + 0.013*\"peopl\"'),\n",
       " (1,\n",
       "  '0.025*\"american\" + 0.018*\"peopl\" + 0.018*\"freedom\" + 0.014*\"liberti\" + 0.012*\"govern\" + 0.010*\"idea\" + 0.010*\"equal\" + 0.009*\"individu\" + 0.009*\"nation\" + 0.008*\"independ\"'),\n",
       " (2,\n",
       "  '0.036*\"peopl\" + 0.011*\"man\" + 0.010*\"time\" + 0.010*\"make\" + 0.008*\"countri\" + 0.008*\"good\" + 0.007*\"live\" + 0.007*\"person\" + 0.007*\"thing\" + 0.006*\"made\"'),\n",
       " (3,\n",
       "  '0.108*\"slave\" + 0.041*\"black\" + 0.032*\"white\" + 0.027*\"african\" + 0.026*\"slaveri\" + 0.024*\"free\" + 0.017*\"southern\" + 0.017*\"south\" + 0.015*\"american\" + 0.013*\"enslav\"'),\n",
       " (4,\n",
       "  '0.044*\"south\" + 0.035*\"cotton\" + 0.030*\"slave\" + 0.026*\"planter\" + 0.023*\"southern\" + 0.017*\"plantat\" + 0.015*\"carolina\" + 0.013*\"farmer\" + 0.012*\"labor\" + 0.012*\"tobacco\"'),\n",
       " (5,\n",
       "  '0.018*\"kill\" + 0.016*\"soldier\" + 0.014*\"die\" + 0.012*\"thousand\" + 0.011*\"peopl\" + 0.011*\"diseas\" + 0.010*\"fire\" + 0.010*\"citi\" + 0.009*\"polic\" + 0.008*\"hundr\"'),\n",
       " (6,\n",
       "  '0.110*\"court\" + 0.068*\"suprem\" + 0.028*\"decis\" + 0.027*\"law\" + 0.025*\"justic\" + 0.024*\"case\" + 0.024*\"rule\" + 0.019*\"state\" + 0.014*\"marshal\" + 0.013*\"constitut\"'),\n",
       " (7,\n",
       "  '0.050*\"democrat\" + 0.047*\"parti\" + 0.044*\"republican\" + 0.036*\"elect\" + 0.035*\"vote\" + 0.019*\"candid\" + 0.017*\"presid\" + 0.015*\"presidenti\" + 0.015*\"elector\" + 0.011*\"polit\"'),\n",
       " (8,\n",
       "  '0.078*\"state\" + 0.040*\"constitut\" + 0.032*\"amend\" + 0.029*\"congress\" + 0.024*\"vote\" + 0.014*\"unit\" + 0.014*\"deleg\" + 0.013*\"convent\" + 0.012*\"govern\" + 0.011*\"legislatur\"'),\n",
       " (9,\n",
       "  '0.055*\"immigr\" + 0.040*\"american\" + 0.025*\"citi\" + 0.016*\"peopl\" + 0.015*\"class\" + 0.012*\"urban\" + 0.012*\"live\" + 0.012*\"group\" + 0.011*\"popul\" + 0.010*\"irish\"'),\n",
       " (10,\n",
       "  '0.049*\"america\" + 0.031*\"coloni\" + 0.029*\"european\" + 0.024*\"north\" + 0.021*\"centuri\" + 0.016*\"english\" + 0.015*\"trade\" + 0.015*\"spanish\" + 0.014*\"empir\" + 0.014*\"american\"'),\n",
       " (11,\n",
       "  '0.107*\"women\" + 0.042*\"men\" + 0.028*\"children\" + 0.022*\"famili\" + 0.022*\"work\" + 0.014*\"woman\" + 0.014*\"young\" + 0.012*\"husband\" + 0.011*\"mother\" + 0.010*\"home\"'),\n",
       " (12,\n",
       "  '0.027*\"econom\" + 0.023*\"depress\" + 0.022*\"problem\" + 0.022*\"american\" + 0.019*\"great\" + 0.017*\"economi\" + 0.015*\"nation\" + 0.011*\"hoover\" + 0.010*\"crisi\" + 0.010*\"deal\"'),\n",
       " (13,\n",
       "  '0.039*\"mexico\" + 0.032*\"spanish\" + 0.031*\"american\" + 0.031*\"mexican\" + 0.028*\"texa\" + 0.017*\"san\" + 0.014*\"california\" + 0.012*\"spain\" + 0.012*\"francisco\" + 0.010*\"independ\"'),\n",
       " (14,\n",
       "  '0.059*\"presid\" + 0.040*\"johnson\" + 0.033*\"kennedi\" + 0.028*\"reagan\" + 0.022*\"bush\" + 0.017*\"clinton\" + 0.015*\"polici\" + 0.015*\"republican\" + 0.014*\"eisenhow\" + 0.012*\"georg\"'),\n",
       " (15,\n",
       "  '0.101*\"roosevelt\" + 0.052*\"wilson\" + 0.049*\"presid\" + 0.023*\"franklin\" + 0.015*\"theodor\" + 0.015*\"truman\" + 0.012*\"taft\" + 0.011*\"nation\" + 0.011*\"deal\" + 0.009*\"woodrow\"'),\n",
       " (16,\n",
       "  '0.018*\"trial\" + 0.014*\"crime\" + 0.013*\"prison\" + 0.013*\"accus\" + 0.011*\"mccarthi\" + 0.010*\"charg\" + 0.010*\"communist\" + 0.010*\"convict\" + 0.008*\"arrest\" + 0.007*\"punish\"'),\n",
       " (17,\n",
       "  '0.031*\"bank\" + 0.028*\"money\" + 0.016*\"govern\" + 0.014*\"farmer\" + 0.013*\"debt\" + 0.013*\"pay\" + 0.012*\"price\" + 0.011*\"compani\" + 0.011*\"tax\" + 0.011*\"loan\"'),\n",
       " (18,\n",
       "  '0.046*\"american\" + 0.024*\"polit\" + 0.022*\"centuri\" + 0.015*\"chang\" + 0.015*\"cultur\" + 0.013*\"societi\" + 0.012*\"social\" + 0.010*\"earli\" + 0.010*\"life\" + 0.010*\"nation\"'),\n",
       " (19,\n",
       "  '0.019*\"hous\" + 0.015*\"cloth\" + 0.014*\"food\" + 0.012*\"peopl\" + 0.012*\"store\" + 0.012*\"home\" + 0.011*\"famili\" + 0.008*\"live\" + 0.008*\"room\" + 0.008*\"good\"'),\n",
       " (20,\n",
       "  '0.030*\"describ\" + 0.029*\"analyz\" + 0.028*\"explain\" + 0.026*\"effect\" + 0.026*\"identifi\" + 0.020*\"impact\" + 0.019*\"state\" + 0.018*\"role\" + 0.018*\"unit\" + 0.017*\"includ\"'),\n",
       " (21,\n",
       "  '0.067*\"worker\" + 0.042*\"labor\" + 0.033*\"work\" + 0.028*\"union\" + 0.020*\"wage\" + 0.019*\"factori\" + 0.018*\"strike\" + 0.018*\"industri\" + 0.016*\"employ\" + 0.013*\"job\"'),\n",
       " (22,\n",
       "  '0.051*\"jackson\" + 0.044*\"jefferson\" + 0.040*\"adam\" + 0.035*\"john\" + 0.035*\"presid\" + 0.020*\"andrew\" + 0.018*\"hamilton\" + 0.018*\"thoma\" + 0.017*\"federalist\" + 0.016*\"jame\"'),\n",
       " (23,\n",
       "  '0.022*\"newspap\" + 0.019*\"imag\" + 0.011*\"paint\" + 0.011*\"photograph\" + 0.011*\"american\" + 0.010*\"york\" + 0.009*\"publish\" + 0.008*\"public\" + 0.008*\"cartoon\" + 0.008*\"show\"'),\n",
       " (24,\n",
       "  '0.075*\"act\" + 0.047*\"congress\" + 0.035*\"law\" + 0.033*\"pass\" + 0.016*\"feder\" + 0.015*\"bill\" + 0.012*\"legisl\" + 0.011*\"tariff\" + 0.011*\"govern\" + 0.010*\"presid\"'),\n",
       " (25,\n",
       "  '0.016*\"man\" + 0.009*\"men\" + 0.007*\"hand\" + 0.007*\"day\" + 0.005*\"boy\" + 0.005*\"woman\" + 0.005*\"white\" + 0.005*\"everi\" + 0.004*\"back\" + 0.004*\"wrote\"'),\n",
       " (26,\n",
       "  '0.048*\"slaveri\" + 0.034*\"state\" + 0.029*\"south\" + 0.027*\"southern\" + 0.020*\"union\" + 0.019*\"territori\" + 0.017*\"compromis\" + 0.017*\"lincoln\" + 0.016*\"northern\" + 0.015*\"north\"'),\n",
       " (27,\n",
       "  '0.063*\"american\" + 0.059*\"black\" + 0.056*\"african\" + 0.049*\"white\" + 0.019*\"civil\" + 0.015*\"south\" + 0.014*\"king\" + 0.013*\"southern\" + 0.013*\"racial\" + 0.013*\"segreg\"'),\n",
       " (28,\n",
       "  '0.046*\"citi\" + 0.027*\"york\" + 0.025*\"railroad\" + 0.017*\"build\" + 0.016*\"canal\" + 0.011*\"road\" + 0.010*\"mile\" + 0.009*\"built\" + 0.009*\"line\" + 0.009*\"river\"'),\n",
       " (29,\n",
       "  '0.051*\"coloni\" + 0.027*\"colonist\" + 0.022*\"british\" + 0.019*\"england\" + 0.018*\"king\" + 0.014*\"english\" + 0.013*\"massachusett\" + 0.012*\"virginia\" + 0.011*\"act\" + 0.011*\"governor\"'),\n",
       " (30,\n",
       "  '0.023*\"question\" + 0.019*\"read\" + 0.018*\"inform\" + 0.017*\"write\" + 0.017*\"sourc\" + 0.015*\"answer\" + 0.015*\"explain\" + 0.013*\"map\" + 0.013*\"event\" + 0.012*\"identifi\"'),\n",
       " (31,\n",
       "  '0.018*\"american\" + 0.016*\"writer\" + 0.014*\"john\" + 0.012*\"publish\" + 0.010*\"book\" + 0.010*\"life\" + 0.010*\"art\" + 0.009*\"henri\" + 0.009*\"artist\" + 0.008*\"york\"'),\n",
       " (32,\n",
       "  '0.150*\"war\" + 0.043*\"american\" + 0.033*\"civil\" + 0.031*\"world\" + 0.018*\"end\" + 0.011*\"cold\" + 0.010*\"militari\" + 0.009*\"vietnam\" + 0.009*\"america\" + 0.009*\"year\"'),\n",
       " (33,\n",
       "  '0.023*\"music\" + 0.022*\"popular\" + 0.018*\"american\" + 0.011*\"radio\" + 0.011*\"show\" + 0.011*\"movi\" + 0.011*\"film\" + 0.009*\"cultur\" + 0.009*\"televis\" + 0.009*\"play\"'),\n",
       " (34,\n",
       "  '0.037*\"land\" + 0.037*\"farmer\" + 0.028*\"farm\" + 0.013*\"crop\" + 0.013*\"cattl\" + 0.010*\"plain\" + 0.009*\"acr\" + 0.009*\"settler\" + 0.008*\"west\" + 0.008*\"plant\"'),\n",
       " (35,\n",
       "  '0.032*\"movement\" + 0.027*\"women\" + 0.023*\"reform\" + 0.023*\"organ\" + 0.020*\"polit\" + 0.019*\"parti\" + 0.015*\"group\" + 0.015*\"nation\" + 0.012*\"social\" + 0.012*\"labor\"'),\n",
       " (36,\n",
       "  '0.023*\"river\" + 0.021*\"west\" + 0.015*\"mississippi\" + 0.015*\"gold\" + 0.013*\"land\" + 0.011*\"california\" + 0.010*\"mountain\" + 0.009*\"coast\" + 0.009*\"explor\" + 0.008*\"north\"'),\n",
       " (37,\n",
       "  '0.024*\"feder\" + 0.022*\"govern\" + 0.022*\"program\" + 0.019*\"tax\" + 0.013*\"social\" + 0.013*\"provid\" + 0.012*\"work\" + 0.012*\"public\" + 0.012*\"secur\" + 0.011*\"deal\"'),\n",
       " (38,\n",
       "  '0.023*\"soviet\" + 0.017*\"american\" + 0.014*\"vietnam\" + 0.012*\"unit\" + 0.012*\"war\" + 0.011*\"state\" + 0.011*\"communist\" + 0.011*\"union\" + 0.011*\"forc\" + 0.010*\"north\"'),\n",
       " (39,\n",
       "  '0.028*\"germani\" + 0.023*\"soviet\" + 0.021*\"german\" + 0.020*\"war\" + 0.018*\"franc\" + 0.016*\"europ\" + 0.016*\"alli\" + 0.015*\"hitler\" + 0.011*\"britain\" + 0.011*\"union\"'),\n",
       " (40,\n",
       "  '0.066*\"presid\" + 0.032*\"hous\" + 0.028*\"offic\" + 0.021*\"senat\" + 0.017*\"nixon\" + 0.014*\"member\" + 0.013*\"secretari\" + 0.013*\"appoint\" + 0.012*\"repres\" + 0.012*\"congress\"'),\n",
       " (41,\n",
       "  '0.090*\"govern\" + 0.037*\"power\" + 0.032*\"feder\" + 0.026*\"nation\" + 0.024*\"state\" + 0.017*\"constitut\" + 0.012*\"system\" + 0.010*\"republican\" + 0.010*\"polit\" + 0.008*\"author\"'),\n",
       " (42,\n",
       "  '0.036*\"armi\" + 0.029*\"general\" + 0.024*\"british\" + 0.022*\"union\" + 0.021*\"forc\" + 0.019*\"troop\" + 0.017*\"battl\" + 0.016*\"confeder\" + 0.015*\"soldier\" + 0.012*\"lee\"'),\n",
       " (43,\n",
       "  '0.161*\"state\" + 0.142*\"unit\" + 0.022*\"nation\" + 0.021*\"war\" + 0.016*\"world\" + 0.015*\"american\" + 0.014*\"britain\" + 0.011*\"power\" + 0.010*\"america\" + 0.010*\"treati\"'),\n",
       " (44,\n",
       "  '0.056*\"school\" + 0.031*\"colleg\" + 0.028*\"univers\" + 0.028*\"student\" + 0.026*\"educ\" + 0.012*\"brown\" + 0.011*\"teacher\" + 0.011*\"john\" + 0.011*\"public\" + 0.010*\"children\"'),\n",
       " (45,\n",
       "  '0.034*\"church\" + 0.029*\"religi\" + 0.018*\"christian\" + 0.016*\"cathol\" + 0.014*\"minist\" + 0.014*\"protest\" + 0.013*\"puritan\" + 0.011*\"god\" + 0.010*\"england\" + 0.010*\"communiti\"'),\n",
       " (46,\n",
       "  '0.082*\"indian\" + 0.044*\"american\" + 0.034*\"nativ\" + 0.024*\"land\" + 0.022*\"white\" + 0.022*\"tribe\" + 0.014*\"settler\" + 0.013*\"cheroke\" + 0.011*\"west\" + 0.009*\"treati\"'),\n",
       " (47,\n",
       "  '0.037*\"american\" + 0.035*\"ship\" + 0.023*\"japanes\" + 0.020*\"british\" + 0.014*\"navi\" + 0.013*\"japan\" + 0.013*\"war\" + 0.013*\"attack\" + 0.012*\"island\" + 0.011*\"harbor\"'),\n",
       " (48,\n",
       "  '0.030*\"industri\" + 0.018*\"product\" + 0.015*\"technolog\" + 0.014*\"busi\" + 0.012*\"develop\" + 0.011*\"american\" + 0.010*\"compani\" + 0.010*\"good\" + 0.010*\"oil\" + 0.010*\"manufactur\"'),\n",
       " (49,\n",
       "  '0.076*\"presid\" + 0.061*\"lincoln\" + 0.032*\"nixon\" + 0.026*\"washington\" + 0.020*\"carter\" + 0.018*\"abraham\" + 0.017*\"ford\" + 0.017*\"davi\" + 0.016*\"richard\" + 0.013*\"address\"')]"
      ]
     },
     "execution_count": 28,
     "metadata": {},
     "output_type": "execute_result"
    }
   ],
   "source": [
    "ldamallet.show_topics(num_topics=NUM_TOPICS, formatted=True)"
   ]
  },
  {
   "cell_type": "code",
   "execution_count": null,
   "metadata": {
    "collapsed": true
   },
   "outputs": [],
   "source": []
  }
 ],
 "metadata": {
  "kernelspec": {
   "display_name": "nlu",
   "language": "python",
   "name": "nlu"
  },
  "language_info": {
   "codemirror_mode": {
    "name": "ipython",
    "version": 3
   },
   "file_extension": ".py",
   "mimetype": "text/x-python",
   "name": "python",
   "nbconvert_exporter": "python",
   "pygments_lexer": "ipython3",
   "version": "3.6.8"
  }
 },
 "nbformat": 4,
 "nbformat_minor": 2
}
